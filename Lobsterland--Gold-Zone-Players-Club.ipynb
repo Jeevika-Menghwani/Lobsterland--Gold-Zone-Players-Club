{
  "nbformat": 4,
  "nbformat_minor": 0,
  "metadata": {
    "colab": {
      "provenance": []
    },
    "kernelspec": {
      "name": "python3",
      "display_name": "Python 3"
    },
    "language_info": {
      "name": "python"
    }
  },
  "cells": [
    {
      "cell_type": "code",
      "execution_count": null,
      "metadata": {
        "id": "TNdtIpxsrrTN"
      },
      "outputs": [],
      "source": [
        "import pandas as pd\n",
        "import seaborn as sns\n",
        "import numpy as np\n",
        "import matplotlib. pyplot as plt"
      ]
    },
    {
      "cell_type": "code",
      "source": [
        "gzpc = pd.read_csv ('gzpc_23.csv')"
      ],
      "metadata": {
        "id": "Ity9_OD8r4rB"
      },
      "execution_count": null,
      "outputs": []
    },
    {
      "cell_type": "code",
      "source": [
        "gzpc.head()"
      ],
      "metadata": {
        "id": "dSn9yAr2sFr7",
        "colab": {
          "base_uri": "https://localhost:8080/",
          "height": 258
        },
        "outputId": "bc987b9e-0594-4a14-89ad-74e26fede626"
      },
      "execution_count": null,
      "outputs": [
        {
          "output_type": "execute_result",
          "data": {
            "text/plain": [
              "   memberID  age_start  dist_park gender job_type last_visit23  \\\n",
              "0         1         35         18      M        S   2023-09-03   \n",
              "1         2         17        130      M        R   2023-07-14   \n",
              "2         3         49        138      M        S   2023-06-08   \n",
              "3         4         21         80      M        H   2023-08-24   \n",
              "4         5         39        110      M        H   2023-08-08   \n",
              "\n",
              "       most_common  total_games  total_spend  total_visits23  passholder  \\\n",
              "0       Wheel Deal          538      4900.88              11           0   \n",
              "1  Connect 4 Hoops          642      5658.99              10           0   \n",
              "2  Connect 4 Hoops          623      4720.21              11           0   \n",
              "3        Star Wars          669      5761.57               9           0   \n",
              "4        Star Wars          484      4140.06               8           0   \n",
              "\n",
              "   years_member  \n",
              "0             1  \n",
              "1            19  \n",
              "2            12  \n",
              "3            17  \n",
              "4            10  "
            ],
            "text/html": [
              "\n",
              "  <div id=\"df-8d4c5ddf-3b5e-4cae-934e-2dbb3813a370\" class=\"colab-df-container\">\n",
              "    <div>\n",
              "<style scoped>\n",
              "    .dataframe tbody tr th:only-of-type {\n",
              "        vertical-align: middle;\n",
              "    }\n",
              "\n",
              "    .dataframe tbody tr th {\n",
              "        vertical-align: top;\n",
              "    }\n",
              "\n",
              "    .dataframe thead th {\n",
              "        text-align: right;\n",
              "    }\n",
              "</style>\n",
              "<table border=\"1\" class=\"dataframe\">\n",
              "  <thead>\n",
              "    <tr style=\"text-align: right;\">\n",
              "      <th></th>\n",
              "      <th>memberID</th>\n",
              "      <th>age_start</th>\n",
              "      <th>dist_park</th>\n",
              "      <th>gender</th>\n",
              "      <th>job_type</th>\n",
              "      <th>last_visit23</th>\n",
              "      <th>most_common</th>\n",
              "      <th>total_games</th>\n",
              "      <th>total_spend</th>\n",
              "      <th>total_visits23</th>\n",
              "      <th>passholder</th>\n",
              "      <th>years_member</th>\n",
              "    </tr>\n",
              "  </thead>\n",
              "  <tbody>\n",
              "    <tr>\n",
              "      <th>0</th>\n",
              "      <td>1</td>\n",
              "      <td>35</td>\n",
              "      <td>18</td>\n",
              "      <td>M</td>\n",
              "      <td>S</td>\n",
              "      <td>2023-09-03</td>\n",
              "      <td>Wheel Deal</td>\n",
              "      <td>538</td>\n",
              "      <td>4900.88</td>\n",
              "      <td>11</td>\n",
              "      <td>0</td>\n",
              "      <td>1</td>\n",
              "    </tr>\n",
              "    <tr>\n",
              "      <th>1</th>\n",
              "      <td>2</td>\n",
              "      <td>17</td>\n",
              "      <td>130</td>\n",
              "      <td>M</td>\n",
              "      <td>R</td>\n",
              "      <td>2023-07-14</td>\n",
              "      <td>Connect 4 Hoops</td>\n",
              "      <td>642</td>\n",
              "      <td>5658.99</td>\n",
              "      <td>10</td>\n",
              "      <td>0</td>\n",
              "      <td>19</td>\n",
              "    </tr>\n",
              "    <tr>\n",
              "      <th>2</th>\n",
              "      <td>3</td>\n",
              "      <td>49</td>\n",
              "      <td>138</td>\n",
              "      <td>M</td>\n",
              "      <td>S</td>\n",
              "      <td>2023-06-08</td>\n",
              "      <td>Connect 4 Hoops</td>\n",
              "      <td>623</td>\n",
              "      <td>4720.21</td>\n",
              "      <td>11</td>\n",
              "      <td>0</td>\n",
              "      <td>12</td>\n",
              "    </tr>\n",
              "    <tr>\n",
              "      <th>3</th>\n",
              "      <td>4</td>\n",
              "      <td>21</td>\n",
              "      <td>80</td>\n",
              "      <td>M</td>\n",
              "      <td>H</td>\n",
              "      <td>2023-08-24</td>\n",
              "      <td>Star Wars</td>\n",
              "      <td>669</td>\n",
              "      <td>5761.57</td>\n",
              "      <td>9</td>\n",
              "      <td>0</td>\n",
              "      <td>17</td>\n",
              "    </tr>\n",
              "    <tr>\n",
              "      <th>4</th>\n",
              "      <td>5</td>\n",
              "      <td>39</td>\n",
              "      <td>110</td>\n",
              "      <td>M</td>\n",
              "      <td>H</td>\n",
              "      <td>2023-08-08</td>\n",
              "      <td>Star Wars</td>\n",
              "      <td>484</td>\n",
              "      <td>4140.06</td>\n",
              "      <td>8</td>\n",
              "      <td>0</td>\n",
              "      <td>10</td>\n",
              "    </tr>\n",
              "  </tbody>\n",
              "</table>\n",
              "</div>\n",
              "    <div class=\"colab-df-buttons\">\n",
              "\n",
              "  <div class=\"colab-df-container\">\n",
              "    <button class=\"colab-df-convert\" onclick=\"convertToInteractive('df-8d4c5ddf-3b5e-4cae-934e-2dbb3813a370')\"\n",
              "            title=\"Convert this dataframe to an interactive table.\"\n",
              "            style=\"display:none;\">\n",
              "\n",
              "  <svg xmlns=\"http://www.w3.org/2000/svg\" height=\"24px\" viewBox=\"0 -960 960 960\">\n",
              "    <path d=\"M120-120v-720h720v720H120Zm60-500h600v-160H180v160Zm220 220h160v-160H400v160Zm0 220h160v-160H400v160ZM180-400h160v-160H180v160Zm440 0h160v-160H620v160ZM180-180h160v-160H180v160Zm440 0h160v-160H620v160Z\"/>\n",
              "  </svg>\n",
              "    </button>\n",
              "\n",
              "  <style>\n",
              "    .colab-df-container {\n",
              "      display:flex;\n",
              "      gap: 12px;\n",
              "    }\n",
              "\n",
              "    .colab-df-convert {\n",
              "      background-color: #E8F0FE;\n",
              "      border: none;\n",
              "      border-radius: 50%;\n",
              "      cursor: pointer;\n",
              "      display: none;\n",
              "      fill: #1967D2;\n",
              "      height: 32px;\n",
              "      padding: 0 0 0 0;\n",
              "      width: 32px;\n",
              "    }\n",
              "\n",
              "    .colab-df-convert:hover {\n",
              "      background-color: #E2EBFA;\n",
              "      box-shadow: 0px 1px 2px rgba(60, 64, 67, 0.3), 0px 1px 3px 1px rgba(60, 64, 67, 0.15);\n",
              "      fill: #174EA6;\n",
              "    }\n",
              "\n",
              "    .colab-df-buttons div {\n",
              "      margin-bottom: 4px;\n",
              "    }\n",
              "\n",
              "    [theme=dark] .colab-df-convert {\n",
              "      background-color: #3B4455;\n",
              "      fill: #D2E3FC;\n",
              "    }\n",
              "\n",
              "    [theme=dark] .colab-df-convert:hover {\n",
              "      background-color: #434B5C;\n",
              "      box-shadow: 0px 1px 3px 1px rgba(0, 0, 0, 0.15);\n",
              "      filter: drop-shadow(0px 1px 2px rgba(0, 0, 0, 0.3));\n",
              "      fill: #FFFFFF;\n",
              "    }\n",
              "  </style>\n",
              "\n",
              "    <script>\n",
              "      const buttonEl =\n",
              "        document.querySelector('#df-8d4c5ddf-3b5e-4cae-934e-2dbb3813a370 button.colab-df-convert');\n",
              "      buttonEl.style.display =\n",
              "        google.colab.kernel.accessAllowed ? 'block' : 'none';\n",
              "\n",
              "      async function convertToInteractive(key) {\n",
              "        const element = document.querySelector('#df-8d4c5ddf-3b5e-4cae-934e-2dbb3813a370');\n",
              "        const dataTable =\n",
              "          await google.colab.kernel.invokeFunction('convertToInteractive',\n",
              "                                                    [key], {});\n",
              "        if (!dataTable) return;\n",
              "\n",
              "        const docLinkHtml = 'Like what you see? Visit the ' +\n",
              "          '<a target=\"_blank\" href=https://colab.research.google.com/notebooks/data_table.ipynb>data table notebook</a>'\n",
              "          + ' to learn more about interactive tables.';\n",
              "        element.innerHTML = '';\n",
              "        dataTable['output_type'] = 'display_data';\n",
              "        await google.colab.output.renderOutput(dataTable, element);\n",
              "        const docLink = document.createElement('div');\n",
              "        docLink.innerHTML = docLinkHtml;\n",
              "        element.appendChild(docLink);\n",
              "      }\n",
              "    </script>\n",
              "  </div>\n",
              "\n",
              "\n",
              "<div id=\"df-d99c3c6a-3702-423a-8fe8-7d7d36fe1e9d\">\n",
              "  <button class=\"colab-df-quickchart\" onclick=\"quickchart('df-d99c3c6a-3702-423a-8fe8-7d7d36fe1e9d')\"\n",
              "            title=\"Suggest charts\"\n",
              "            style=\"display:none;\">\n",
              "\n",
              "<svg xmlns=\"http://www.w3.org/2000/svg\" height=\"24px\"viewBox=\"0 0 24 24\"\n",
              "     width=\"24px\">\n",
              "    <g>\n",
              "        <path d=\"M19 3H5c-1.1 0-2 .9-2 2v14c0 1.1.9 2 2 2h14c1.1 0 2-.9 2-2V5c0-1.1-.9-2-2-2zM9 17H7v-7h2v7zm4 0h-2V7h2v10zm4 0h-2v-4h2v4z\"/>\n",
              "    </g>\n",
              "</svg>\n",
              "  </button>\n",
              "\n",
              "<style>\n",
              "  .colab-df-quickchart {\n",
              "      --bg-color: #E8F0FE;\n",
              "      --fill-color: #1967D2;\n",
              "      --hover-bg-color: #E2EBFA;\n",
              "      --hover-fill-color: #174EA6;\n",
              "      --disabled-fill-color: #AAA;\n",
              "      --disabled-bg-color: #DDD;\n",
              "  }\n",
              "\n",
              "  [theme=dark] .colab-df-quickchart {\n",
              "      --bg-color: #3B4455;\n",
              "      --fill-color: #D2E3FC;\n",
              "      --hover-bg-color: #434B5C;\n",
              "      --hover-fill-color: #FFFFFF;\n",
              "      --disabled-bg-color: #3B4455;\n",
              "      --disabled-fill-color: #666;\n",
              "  }\n",
              "\n",
              "  .colab-df-quickchart {\n",
              "    background-color: var(--bg-color);\n",
              "    border: none;\n",
              "    border-radius: 50%;\n",
              "    cursor: pointer;\n",
              "    display: none;\n",
              "    fill: var(--fill-color);\n",
              "    height: 32px;\n",
              "    padding: 0;\n",
              "    width: 32px;\n",
              "  }\n",
              "\n",
              "  .colab-df-quickchart:hover {\n",
              "    background-color: var(--hover-bg-color);\n",
              "    box-shadow: 0 1px 2px rgba(60, 64, 67, 0.3), 0 1px 3px 1px rgba(60, 64, 67, 0.15);\n",
              "    fill: var(--button-hover-fill-color);\n",
              "  }\n",
              "\n",
              "  .colab-df-quickchart-complete:disabled,\n",
              "  .colab-df-quickchart-complete:disabled:hover {\n",
              "    background-color: var(--disabled-bg-color);\n",
              "    fill: var(--disabled-fill-color);\n",
              "    box-shadow: none;\n",
              "  }\n",
              "\n",
              "  .colab-df-spinner {\n",
              "    border: 2px solid var(--fill-color);\n",
              "    border-color: transparent;\n",
              "    border-bottom-color: var(--fill-color);\n",
              "    animation:\n",
              "      spin 1s steps(1) infinite;\n",
              "  }\n",
              "\n",
              "  @keyframes spin {\n",
              "    0% {\n",
              "      border-color: transparent;\n",
              "      border-bottom-color: var(--fill-color);\n",
              "      border-left-color: var(--fill-color);\n",
              "    }\n",
              "    20% {\n",
              "      border-color: transparent;\n",
              "      border-left-color: var(--fill-color);\n",
              "      border-top-color: var(--fill-color);\n",
              "    }\n",
              "    30% {\n",
              "      border-color: transparent;\n",
              "      border-left-color: var(--fill-color);\n",
              "      border-top-color: var(--fill-color);\n",
              "      border-right-color: var(--fill-color);\n",
              "    }\n",
              "    40% {\n",
              "      border-color: transparent;\n",
              "      border-right-color: var(--fill-color);\n",
              "      border-top-color: var(--fill-color);\n",
              "    }\n",
              "    60% {\n",
              "      border-color: transparent;\n",
              "      border-right-color: var(--fill-color);\n",
              "    }\n",
              "    80% {\n",
              "      border-color: transparent;\n",
              "      border-right-color: var(--fill-color);\n",
              "      border-bottom-color: var(--fill-color);\n",
              "    }\n",
              "    90% {\n",
              "      border-color: transparent;\n",
              "      border-bottom-color: var(--fill-color);\n",
              "    }\n",
              "  }\n",
              "</style>\n",
              "\n",
              "  <script>\n",
              "    async function quickchart(key) {\n",
              "      const quickchartButtonEl =\n",
              "        document.querySelector('#' + key + ' button');\n",
              "      quickchartButtonEl.disabled = true;  // To prevent multiple clicks.\n",
              "      quickchartButtonEl.classList.add('colab-df-spinner');\n",
              "      try {\n",
              "        const charts = await google.colab.kernel.invokeFunction(\n",
              "            'suggestCharts', [key], {});\n",
              "      } catch (error) {\n",
              "        console.error('Error during call to suggestCharts:', error);\n",
              "      }\n",
              "      quickchartButtonEl.classList.remove('colab-df-spinner');\n",
              "      quickchartButtonEl.classList.add('colab-df-quickchart-complete');\n",
              "    }\n",
              "    (() => {\n",
              "      let quickchartButtonEl =\n",
              "        document.querySelector('#df-d99c3c6a-3702-423a-8fe8-7d7d36fe1e9d button');\n",
              "      quickchartButtonEl.style.display =\n",
              "        google.colab.kernel.accessAllowed ? 'block' : 'none';\n",
              "    })();\n",
              "  </script>\n",
              "</div>\n",
              "\n",
              "    </div>\n",
              "  </div>\n"
            ],
            "application/vnd.google.colaboratory.intrinsic+json": {
              "type": "dataframe",
              "variable_name": "gzpc",
              "summary": "{\n  \"name\": \"gzpc\",\n  \"rows\": 278,\n  \"fields\": [\n    {\n      \"column\": \"memberID\",\n      \"properties\": {\n        \"dtype\": \"number\",\n        \"std\": 80,\n        \"min\": 1,\n        \"max\": 278,\n        \"samples\": [\n          31,\n          127,\n          200\n        ],\n        \"num_unique_values\": 278,\n        \"semantic_type\": \"\",\n        \"description\": \"\"\n      }\n    },\n    {\n      \"column\": \"age_start\",\n      \"properties\": {\n        \"dtype\": \"number\",\n        \"std\": 13,\n        \"min\": 16,\n        \"max\": 78,\n        \"samples\": [\n          32,\n          69,\n          55\n        ],\n        \"num_unique_values\": 48,\n        \"semantic_type\": \"\",\n        \"description\": \"\"\n      }\n    },\n    {\n      \"column\": \"dist_park\",\n      \"properties\": {\n        \"dtype\": \"number\",\n        \"std\": 51,\n        \"min\": 1,\n        \"max\": 229,\n        \"samples\": [\n          24,\n          110,\n          36\n        ],\n        \"num_unique_values\": 115,\n        \"semantic_type\": \"\",\n        \"description\": \"\"\n      }\n    },\n    {\n      \"column\": \"gender\",\n      \"properties\": {\n        \"dtype\": \"category\",\n        \"samples\": [\n          \"F\",\n          \"M\"\n        ],\n        \"num_unique_values\": 2,\n        \"semantic_type\": \"\",\n        \"description\": \"\"\n      }\n    },\n    {\n      \"column\": \"job_type\",\n      \"properties\": {\n        \"dtype\": \"category\",\n        \"samples\": [\n          \"R\",\n          \"U\"\n        ],\n        \"num_unique_values\": 5,\n        \"semantic_type\": \"\",\n        \"description\": \"\"\n      }\n    },\n    {\n      \"column\": \"last_visit23\",\n      \"properties\": {\n        \"dtype\": \"object\",\n        \"min\": \"2023-06-04\",\n        \"max\": \"2023-09-04\",\n        \"samples\": [\n          \"2023-07-15\",\n          \"2023-09-03\"\n        ],\n        \"num_unique_values\": 82,\n        \"semantic_type\": \"\",\n        \"description\": \"\"\n      }\n    },\n    {\n      \"column\": \"most_common\",\n      \"properties\": {\n        \"dtype\": \"category\",\n        \"samples\": [\n          \"Wheel Deal\",\n          \"Connect 4 Hoops\"\n        ],\n        \"num_unique_values\": 6,\n        \"semantic_type\": \"\",\n        \"description\": \"\"\n      }\n    },\n    {\n      \"column\": \"total_games\",\n      \"properties\": {\n        \"dtype\": \"number\",\n        \"std\": 88,\n        \"min\": 289,\n        \"max\": 847,\n        \"samples\": [\n          504,\n          585\n        ],\n        \"num_unique_values\": 192,\n        \"semantic_type\": \"\",\n        \"description\": \"\"\n      }\n    },\n    {\n      \"column\": \"total_spend\",\n      \"properties\": {\n        \"dtype\": \"number\",\n        \"std\": 642.6274105064695,\n        \"min\": 2548.72,\n        \"max\": 6575.28,\n        \"samples\": [\n          4099.19,\n          3391.58\n        ],\n        \"num_unique_values\": 278,\n        \"semantic_type\": \"\",\n        \"description\": \"\"\n      }\n    },\n    {\n      \"column\": \"total_visits23\",\n      \"properties\": {\n        \"dtype\": \"number\",\n        \"std\": 3,\n        \"min\": 4,\n        \"max\": 24,\n        \"samples\": [\n          11,\n          5\n        ],\n        \"num_unique_values\": 21,\n        \"semantic_type\": \"\",\n        \"description\": \"\"\n      }\n    },\n    {\n      \"column\": \"passholder\",\n      \"properties\": {\n        \"dtype\": \"number\",\n        \"std\": 0,\n        \"min\": 0,\n        \"max\": 1,\n        \"samples\": [\n          1,\n          0\n        ],\n        \"num_unique_values\": 2,\n        \"semantic_type\": \"\",\n        \"description\": \"\"\n      }\n    },\n    {\n      \"column\": \"years_member\",\n      \"properties\": {\n        \"dtype\": \"number\",\n        \"std\": 5,\n        \"min\": 0,\n        \"max\": 20,\n        \"samples\": [\n          1,\n          6\n        ],\n        \"num_unique_values\": 21,\n        \"semantic_type\": \"\",\n        \"description\": \"\"\n      }\n    }\n  ]\n}"
            }
          },
          "metadata": {},
          "execution_count": 4
        }
      ]
    },
    {
      "cell_type": "markdown",
      "source": [
        "As i ran the head function i can only see 5 rows"
      ],
      "metadata": {
        "id": "-KsuTeTpGTKB"
      }
    },
    {
      "cell_type": "code",
      "source": [
        "shape = gzpc.shape\n",
        "print(\"shape of the dataset\",shape)"
      ],
      "metadata": {
        "id": "hlv3ZzRqJHRr",
        "colab": {
          "base_uri": "https://localhost:8080/"
        },
        "outputId": "1406097b-a4c5-4386-e2cd-3d15fd0ad84e"
      },
      "execution_count": null,
      "outputs": [
        {
          "output_type": "stream",
          "name": "stdout",
          "text": [
            "shape of the dataset (278, 12)\n"
          ]
        }
      ]
    },
    {
      "cell_type": "markdown",
      "source": [
        "Dataset has 278 rows and 12 columns\n",
        "\n",
        "after reading the description, here is the data type for the variable:\n",
        "1. memberID- numeric\n",
        "2. age_start - nueric\n",
        "3. dist_park - numeric\n",
        "4. gender - categorical\n",
        "5. job_type - categorical\n",
        "6. passholder - numeric\n",
        "7. last_visit23 - numeric\n",
        "8. most_common - categorical\n",
        "9. total_games - numeric\n",
        "10. total_spend - numeric\n",
        "11. total_visits23 - numeric\n",
        "12. years_member - numeric\n",
        "\n",
        "\n",
        "\n"
      ],
      "metadata": {
        "id": "hpKVatdhGgmZ"
      }
    },
    {
      "cell_type": "code",
      "source": [
        "gzpc.info()"
      ],
      "metadata": {
        "id": "bzRecDeasbsh",
        "colab": {
          "base_uri": "https://localhost:8080/"
        },
        "outputId": "6d9aa0ec-f718-4647-ceab-9b976b943c63"
      },
      "execution_count": null,
      "outputs": [
        {
          "output_type": "stream",
          "name": "stdout",
          "text": [
            "<class 'pandas.core.frame.DataFrame'>\n",
            "RangeIndex: 278 entries, 0 to 277\n",
            "Data columns (total 12 columns):\n",
            " #   Column          Non-Null Count  Dtype  \n",
            "---  ------          --------------  -----  \n",
            " 0   memberID        278 non-null    int64  \n",
            " 1   age_start       278 non-null    int64  \n",
            " 2   dist_park       278 non-null    int64  \n",
            " 3   gender          278 non-null    object \n",
            " 4   job_type        278 non-null    object \n",
            " 5   last_visit23    278 non-null    object \n",
            " 6   most_common     278 non-null    object \n",
            " 7   total_games     278 non-null    int64  \n",
            " 8   total_spend     278 non-null    float64\n",
            " 9   total_visits23  278 non-null    int64  \n",
            " 10  passholder      278 non-null    int64  \n",
            " 11  years_member    278 non-null    int64  \n",
            "dtypes: float64(1), int64(7), object(4)\n",
            "memory usage: 26.2+ KB\n"
          ]
        }
      ]
    },
    {
      "cell_type": "code",
      "source": [
        "(nan_count)=gzpc.isnull().sum().sum()\n",
        "print(nan_count)\n",
        "missing_data = gzpc.isna().any().any()\n",
        "print(missing_data)\n",
        "is_blank = (gzpc == '').any().any()\n",
        "print(is_blank)"
      ],
      "metadata": {
        "id": "ic0n_gwnxoJe",
        "colab": {
          "base_uri": "https://localhost:8080/"
        },
        "outputId": "cb615a05-ebff-4bf3-8c6f-db77fdeca6ab"
      },
      "execution_count": null,
      "outputs": [
        {
          "output_type": "stream",
          "name": "stdout",
          "text": [
            "0\n",
            "False\n",
            "False\n"
          ]
        }
      ]
    },
    {
      "cell_type": "markdown",
      "source": [
        "No there are no NaN values,missing or blank\n",
        "\n",
        "\n",
        "\n",
        "\n",
        "\n",
        "\n"
      ],
      "metadata": {
        "id": "BzVEtBJUIyMR"
      }
    },
    {
      "cell_type": "code",
      "source": [
        "gzpc['SuperPlayers']= (gzpc['total_spend']>5000)& (gzpc['total_visits23']>=15)\n",
        "gzpc.head()\n"
      ],
      "metadata": {
        "id": "JnWKBU8P1gyF",
        "colab": {
          "base_uri": "https://localhost:8080/",
          "height": 258
        },
        "outputId": "91316989-676c-4a6e-f248-6c5479919649"
      },
      "execution_count": null,
      "outputs": [
        {
          "output_type": "execute_result",
          "data": {
            "text/plain": [
              "   memberID  age_start  dist_park gender job_type last_visit23  \\\n",
              "0         1         35         18      M        S   2023-09-03   \n",
              "1         2         17        130      M        R   2023-07-14   \n",
              "2         3         49        138      M        S   2023-06-08   \n",
              "3         4         21         80      M        H   2023-08-24   \n",
              "4         5         39        110      M        H   2023-08-08   \n",
              "\n",
              "       most_common  total_games  total_spend  total_visits23  passholder  \\\n",
              "0       Wheel Deal          538      4900.88              11           0   \n",
              "1  Connect 4 Hoops          642      5658.99              10           0   \n",
              "2  Connect 4 Hoops          623      4720.21              11           0   \n",
              "3        Star Wars          669      5761.57               9           0   \n",
              "4        Star Wars          484      4140.06               8           0   \n",
              "\n",
              "   years_member  SuperPlayers  \n",
              "0             1         False  \n",
              "1            19         False  \n",
              "2            12         False  \n",
              "3            17         False  \n",
              "4            10         False  "
            ],
            "text/html": [
              "\n",
              "  <div id=\"df-b2da2985-2810-475e-a226-b346b684bcf1\" class=\"colab-df-container\">\n",
              "    <div>\n",
              "<style scoped>\n",
              "    .dataframe tbody tr th:only-of-type {\n",
              "        vertical-align: middle;\n",
              "    }\n",
              "\n",
              "    .dataframe tbody tr th {\n",
              "        vertical-align: top;\n",
              "    }\n",
              "\n",
              "    .dataframe thead th {\n",
              "        text-align: right;\n",
              "    }\n",
              "</style>\n",
              "<table border=\"1\" class=\"dataframe\">\n",
              "  <thead>\n",
              "    <tr style=\"text-align: right;\">\n",
              "      <th></th>\n",
              "      <th>memberID</th>\n",
              "      <th>age_start</th>\n",
              "      <th>dist_park</th>\n",
              "      <th>gender</th>\n",
              "      <th>job_type</th>\n",
              "      <th>last_visit23</th>\n",
              "      <th>most_common</th>\n",
              "      <th>total_games</th>\n",
              "      <th>total_spend</th>\n",
              "      <th>total_visits23</th>\n",
              "      <th>passholder</th>\n",
              "      <th>years_member</th>\n",
              "      <th>SuperPlayers</th>\n",
              "    </tr>\n",
              "  </thead>\n",
              "  <tbody>\n",
              "    <tr>\n",
              "      <th>0</th>\n",
              "      <td>1</td>\n",
              "      <td>35</td>\n",
              "      <td>18</td>\n",
              "      <td>M</td>\n",
              "      <td>S</td>\n",
              "      <td>2023-09-03</td>\n",
              "      <td>Wheel Deal</td>\n",
              "      <td>538</td>\n",
              "      <td>4900.88</td>\n",
              "      <td>11</td>\n",
              "      <td>0</td>\n",
              "      <td>1</td>\n",
              "      <td>False</td>\n",
              "    </tr>\n",
              "    <tr>\n",
              "      <th>1</th>\n",
              "      <td>2</td>\n",
              "      <td>17</td>\n",
              "      <td>130</td>\n",
              "      <td>M</td>\n",
              "      <td>R</td>\n",
              "      <td>2023-07-14</td>\n",
              "      <td>Connect 4 Hoops</td>\n",
              "      <td>642</td>\n",
              "      <td>5658.99</td>\n",
              "      <td>10</td>\n",
              "      <td>0</td>\n",
              "      <td>19</td>\n",
              "      <td>False</td>\n",
              "    </tr>\n",
              "    <tr>\n",
              "      <th>2</th>\n",
              "      <td>3</td>\n",
              "      <td>49</td>\n",
              "      <td>138</td>\n",
              "      <td>M</td>\n",
              "      <td>S</td>\n",
              "      <td>2023-06-08</td>\n",
              "      <td>Connect 4 Hoops</td>\n",
              "      <td>623</td>\n",
              "      <td>4720.21</td>\n",
              "      <td>11</td>\n",
              "      <td>0</td>\n",
              "      <td>12</td>\n",
              "      <td>False</td>\n",
              "    </tr>\n",
              "    <tr>\n",
              "      <th>3</th>\n",
              "      <td>4</td>\n",
              "      <td>21</td>\n",
              "      <td>80</td>\n",
              "      <td>M</td>\n",
              "      <td>H</td>\n",
              "      <td>2023-08-24</td>\n",
              "      <td>Star Wars</td>\n",
              "      <td>669</td>\n",
              "      <td>5761.57</td>\n",
              "      <td>9</td>\n",
              "      <td>0</td>\n",
              "      <td>17</td>\n",
              "      <td>False</td>\n",
              "    </tr>\n",
              "    <tr>\n",
              "      <th>4</th>\n",
              "      <td>5</td>\n",
              "      <td>39</td>\n",
              "      <td>110</td>\n",
              "      <td>M</td>\n",
              "      <td>H</td>\n",
              "      <td>2023-08-08</td>\n",
              "      <td>Star Wars</td>\n",
              "      <td>484</td>\n",
              "      <td>4140.06</td>\n",
              "      <td>8</td>\n",
              "      <td>0</td>\n",
              "      <td>10</td>\n",
              "      <td>False</td>\n",
              "    </tr>\n",
              "  </tbody>\n",
              "</table>\n",
              "</div>\n",
              "    <div class=\"colab-df-buttons\">\n",
              "\n",
              "  <div class=\"colab-df-container\">\n",
              "    <button class=\"colab-df-convert\" onclick=\"convertToInteractive('df-b2da2985-2810-475e-a226-b346b684bcf1')\"\n",
              "            title=\"Convert this dataframe to an interactive table.\"\n",
              "            style=\"display:none;\">\n",
              "\n",
              "  <svg xmlns=\"http://www.w3.org/2000/svg\" height=\"24px\" viewBox=\"0 -960 960 960\">\n",
              "    <path d=\"M120-120v-720h720v720H120Zm60-500h600v-160H180v160Zm220 220h160v-160H400v160Zm0 220h160v-160H400v160ZM180-400h160v-160H180v160Zm440 0h160v-160H620v160ZM180-180h160v-160H180v160Zm440 0h160v-160H620v160Z\"/>\n",
              "  </svg>\n",
              "    </button>\n",
              "\n",
              "  <style>\n",
              "    .colab-df-container {\n",
              "      display:flex;\n",
              "      gap: 12px;\n",
              "    }\n",
              "\n",
              "    .colab-df-convert {\n",
              "      background-color: #E8F0FE;\n",
              "      border: none;\n",
              "      border-radius: 50%;\n",
              "      cursor: pointer;\n",
              "      display: none;\n",
              "      fill: #1967D2;\n",
              "      height: 32px;\n",
              "      padding: 0 0 0 0;\n",
              "      width: 32px;\n",
              "    }\n",
              "\n",
              "    .colab-df-convert:hover {\n",
              "      background-color: #E2EBFA;\n",
              "      box-shadow: 0px 1px 2px rgba(60, 64, 67, 0.3), 0px 1px 3px 1px rgba(60, 64, 67, 0.15);\n",
              "      fill: #174EA6;\n",
              "    }\n",
              "\n",
              "    .colab-df-buttons div {\n",
              "      margin-bottom: 4px;\n",
              "    }\n",
              "\n",
              "    [theme=dark] .colab-df-convert {\n",
              "      background-color: #3B4455;\n",
              "      fill: #D2E3FC;\n",
              "    }\n",
              "\n",
              "    [theme=dark] .colab-df-convert:hover {\n",
              "      background-color: #434B5C;\n",
              "      box-shadow: 0px 1px 3px 1px rgba(0, 0, 0, 0.15);\n",
              "      filter: drop-shadow(0px 1px 2px rgba(0, 0, 0, 0.3));\n",
              "      fill: #FFFFFF;\n",
              "    }\n",
              "  </style>\n",
              "\n",
              "    <script>\n",
              "      const buttonEl =\n",
              "        document.querySelector('#df-b2da2985-2810-475e-a226-b346b684bcf1 button.colab-df-convert');\n",
              "      buttonEl.style.display =\n",
              "        google.colab.kernel.accessAllowed ? 'block' : 'none';\n",
              "\n",
              "      async function convertToInteractive(key) {\n",
              "        const element = document.querySelector('#df-b2da2985-2810-475e-a226-b346b684bcf1');\n",
              "        const dataTable =\n",
              "          await google.colab.kernel.invokeFunction('convertToInteractive',\n",
              "                                                    [key], {});\n",
              "        if (!dataTable) return;\n",
              "\n",
              "        const docLinkHtml = 'Like what you see? Visit the ' +\n",
              "          '<a target=\"_blank\" href=https://colab.research.google.com/notebooks/data_table.ipynb>data table notebook</a>'\n",
              "          + ' to learn more about interactive tables.';\n",
              "        element.innerHTML = '';\n",
              "        dataTable['output_type'] = 'display_data';\n",
              "        await google.colab.output.renderOutput(dataTable, element);\n",
              "        const docLink = document.createElement('div');\n",
              "        docLink.innerHTML = docLinkHtml;\n",
              "        element.appendChild(docLink);\n",
              "      }\n",
              "    </script>\n",
              "  </div>\n",
              "\n",
              "\n",
              "<div id=\"df-d3254529-abf5-4c4d-9f6c-1ffe92148da0\">\n",
              "  <button class=\"colab-df-quickchart\" onclick=\"quickchart('df-d3254529-abf5-4c4d-9f6c-1ffe92148da0')\"\n",
              "            title=\"Suggest charts\"\n",
              "            style=\"display:none;\">\n",
              "\n",
              "<svg xmlns=\"http://www.w3.org/2000/svg\" height=\"24px\"viewBox=\"0 0 24 24\"\n",
              "     width=\"24px\">\n",
              "    <g>\n",
              "        <path d=\"M19 3H5c-1.1 0-2 .9-2 2v14c0 1.1.9 2 2 2h14c1.1 0 2-.9 2-2V5c0-1.1-.9-2-2-2zM9 17H7v-7h2v7zm4 0h-2V7h2v10zm4 0h-2v-4h2v4z\"/>\n",
              "    </g>\n",
              "</svg>\n",
              "  </button>\n",
              "\n",
              "<style>\n",
              "  .colab-df-quickchart {\n",
              "      --bg-color: #E8F0FE;\n",
              "      --fill-color: #1967D2;\n",
              "      --hover-bg-color: #E2EBFA;\n",
              "      --hover-fill-color: #174EA6;\n",
              "      --disabled-fill-color: #AAA;\n",
              "      --disabled-bg-color: #DDD;\n",
              "  }\n",
              "\n",
              "  [theme=dark] .colab-df-quickchart {\n",
              "      --bg-color: #3B4455;\n",
              "      --fill-color: #D2E3FC;\n",
              "      --hover-bg-color: #434B5C;\n",
              "      --hover-fill-color: #FFFFFF;\n",
              "      --disabled-bg-color: #3B4455;\n",
              "      --disabled-fill-color: #666;\n",
              "  }\n",
              "\n",
              "  .colab-df-quickchart {\n",
              "    background-color: var(--bg-color);\n",
              "    border: none;\n",
              "    border-radius: 50%;\n",
              "    cursor: pointer;\n",
              "    display: none;\n",
              "    fill: var(--fill-color);\n",
              "    height: 32px;\n",
              "    padding: 0;\n",
              "    width: 32px;\n",
              "  }\n",
              "\n",
              "  .colab-df-quickchart:hover {\n",
              "    background-color: var(--hover-bg-color);\n",
              "    box-shadow: 0 1px 2px rgba(60, 64, 67, 0.3), 0 1px 3px 1px rgba(60, 64, 67, 0.15);\n",
              "    fill: var(--button-hover-fill-color);\n",
              "  }\n",
              "\n",
              "  .colab-df-quickchart-complete:disabled,\n",
              "  .colab-df-quickchart-complete:disabled:hover {\n",
              "    background-color: var(--disabled-bg-color);\n",
              "    fill: var(--disabled-fill-color);\n",
              "    box-shadow: none;\n",
              "  }\n",
              "\n",
              "  .colab-df-spinner {\n",
              "    border: 2px solid var(--fill-color);\n",
              "    border-color: transparent;\n",
              "    border-bottom-color: var(--fill-color);\n",
              "    animation:\n",
              "      spin 1s steps(1) infinite;\n",
              "  }\n",
              "\n",
              "  @keyframes spin {\n",
              "    0% {\n",
              "      border-color: transparent;\n",
              "      border-bottom-color: var(--fill-color);\n",
              "      border-left-color: var(--fill-color);\n",
              "    }\n",
              "    20% {\n",
              "      border-color: transparent;\n",
              "      border-left-color: var(--fill-color);\n",
              "      border-top-color: var(--fill-color);\n",
              "    }\n",
              "    30% {\n",
              "      border-color: transparent;\n",
              "      border-left-color: var(--fill-color);\n",
              "      border-top-color: var(--fill-color);\n",
              "      border-right-color: var(--fill-color);\n",
              "    }\n",
              "    40% {\n",
              "      border-color: transparent;\n",
              "      border-right-color: var(--fill-color);\n",
              "      border-top-color: var(--fill-color);\n",
              "    }\n",
              "    60% {\n",
              "      border-color: transparent;\n",
              "      border-right-color: var(--fill-color);\n",
              "    }\n",
              "    80% {\n",
              "      border-color: transparent;\n",
              "      border-right-color: var(--fill-color);\n",
              "      border-bottom-color: var(--fill-color);\n",
              "    }\n",
              "    90% {\n",
              "      border-color: transparent;\n",
              "      border-bottom-color: var(--fill-color);\n",
              "    }\n",
              "  }\n",
              "</style>\n",
              "\n",
              "  <script>\n",
              "    async function quickchart(key) {\n",
              "      const quickchartButtonEl =\n",
              "        document.querySelector('#' + key + ' button');\n",
              "      quickchartButtonEl.disabled = true;  // To prevent multiple clicks.\n",
              "      quickchartButtonEl.classList.add('colab-df-spinner');\n",
              "      try {\n",
              "        const charts = await google.colab.kernel.invokeFunction(\n",
              "            'suggestCharts', [key], {});\n",
              "      } catch (error) {\n",
              "        console.error('Error during call to suggestCharts:', error);\n",
              "      }\n",
              "      quickchartButtonEl.classList.remove('colab-df-spinner');\n",
              "      quickchartButtonEl.classList.add('colab-df-quickchart-complete');\n",
              "    }\n",
              "    (() => {\n",
              "      let quickchartButtonEl =\n",
              "        document.querySelector('#df-d3254529-abf5-4c4d-9f6c-1ffe92148da0 button');\n",
              "      quickchartButtonEl.style.display =\n",
              "        google.colab.kernel.accessAllowed ? 'block' : 'none';\n",
              "    })();\n",
              "  </script>\n",
              "</div>\n",
              "\n",
              "    </div>\n",
              "  </div>\n"
            ],
            "application/vnd.google.colaboratory.intrinsic+json": {
              "type": "dataframe",
              "variable_name": "gzpc",
              "summary": "{\n  \"name\": \"gzpc\",\n  \"rows\": 278,\n  \"fields\": [\n    {\n      \"column\": \"memberID\",\n      \"properties\": {\n        \"dtype\": \"number\",\n        \"std\": 80,\n        \"min\": 1,\n        \"max\": 278,\n        \"samples\": [\n          31,\n          127,\n          200\n        ],\n        \"num_unique_values\": 278,\n        \"semantic_type\": \"\",\n        \"description\": \"\"\n      }\n    },\n    {\n      \"column\": \"age_start\",\n      \"properties\": {\n        \"dtype\": \"number\",\n        \"std\": 13,\n        \"min\": 16,\n        \"max\": 78,\n        \"samples\": [\n          32,\n          69,\n          55\n        ],\n        \"num_unique_values\": 48,\n        \"semantic_type\": \"\",\n        \"description\": \"\"\n      }\n    },\n    {\n      \"column\": \"dist_park\",\n      \"properties\": {\n        \"dtype\": \"number\",\n        \"std\": 51,\n        \"min\": 1,\n        \"max\": 229,\n        \"samples\": [\n          24,\n          110,\n          36\n        ],\n        \"num_unique_values\": 115,\n        \"semantic_type\": \"\",\n        \"description\": \"\"\n      }\n    },\n    {\n      \"column\": \"gender\",\n      \"properties\": {\n        \"dtype\": \"category\",\n        \"samples\": [\n          \"F\",\n          \"M\"\n        ],\n        \"num_unique_values\": 2,\n        \"semantic_type\": \"\",\n        \"description\": \"\"\n      }\n    },\n    {\n      \"column\": \"job_type\",\n      \"properties\": {\n        \"dtype\": \"category\",\n        \"samples\": [\n          \"R\",\n          \"U\"\n        ],\n        \"num_unique_values\": 5,\n        \"semantic_type\": \"\",\n        \"description\": \"\"\n      }\n    },\n    {\n      \"column\": \"last_visit23\",\n      \"properties\": {\n        \"dtype\": \"object\",\n        \"min\": \"2023-06-04\",\n        \"max\": \"2023-09-04\",\n        \"samples\": [\n          \"2023-07-15\",\n          \"2023-09-03\"\n        ],\n        \"num_unique_values\": 82,\n        \"semantic_type\": \"\",\n        \"description\": \"\"\n      }\n    },\n    {\n      \"column\": \"most_common\",\n      \"properties\": {\n        \"dtype\": \"category\",\n        \"samples\": [\n          \"Wheel Deal\",\n          \"Connect 4 Hoops\"\n        ],\n        \"num_unique_values\": 6,\n        \"semantic_type\": \"\",\n        \"description\": \"\"\n      }\n    },\n    {\n      \"column\": \"total_games\",\n      \"properties\": {\n        \"dtype\": \"number\",\n        \"std\": 88,\n        \"min\": 289,\n        \"max\": 847,\n        \"samples\": [\n          504,\n          585\n        ],\n        \"num_unique_values\": 192,\n        \"semantic_type\": \"\",\n        \"description\": \"\"\n      }\n    },\n    {\n      \"column\": \"total_spend\",\n      \"properties\": {\n        \"dtype\": \"number\",\n        \"std\": 642.6274105064695,\n        \"min\": 2548.72,\n        \"max\": 6575.28,\n        \"samples\": [\n          4099.19,\n          3391.58\n        ],\n        \"num_unique_values\": 278,\n        \"semantic_type\": \"\",\n        \"description\": \"\"\n      }\n    },\n    {\n      \"column\": \"total_visits23\",\n      \"properties\": {\n        \"dtype\": \"number\",\n        \"std\": 3,\n        \"min\": 4,\n        \"max\": 24,\n        \"samples\": [\n          11,\n          5\n        ],\n        \"num_unique_values\": 21,\n        \"semantic_type\": \"\",\n        \"description\": \"\"\n      }\n    },\n    {\n      \"column\": \"passholder\",\n      \"properties\": {\n        \"dtype\": \"number\",\n        \"std\": 0,\n        \"min\": 0,\n        \"max\": 1,\n        \"samples\": [\n          1,\n          0\n        ],\n        \"num_unique_values\": 2,\n        \"semantic_type\": \"\",\n        \"description\": \"\"\n      }\n    },\n    {\n      \"column\": \"years_member\",\n      \"properties\": {\n        \"dtype\": \"number\",\n        \"std\": 5,\n        \"min\": 0,\n        \"max\": 20,\n        \"samples\": [\n          1,\n          6\n        ],\n        \"num_unique_values\": 21,\n        \"semantic_type\": \"\",\n        \"description\": \"\"\n      }\n    },\n    {\n      \"column\": \"SuperPlayers\",\n      \"properties\": {\n        \"dtype\": \"boolean\",\n        \"samples\": [\n          true,\n          false\n        ],\n        \"num_unique_values\": 2,\n        \"semantic_type\": \"\",\n        \"description\": \"\"\n      }\n    }\n  ]\n}"
            }
          },
          "metadata": {},
          "execution_count": 8
        }
      ]
    },
    {
      "cell_type": "code",
      "source": [
        "total_spend= gzpc.total_spend.sum()\n",
        "print(\"Total amount of spending among members of the Gold Zone Players Club across the season is\", total_spend)"
      ],
      "metadata": {
        "colab": {
          "base_uri": "https://localhost:8080/"
        },
        "id": "Yye06Nqq3Z2J",
        "outputId": "8f942fcb-fd82-43e5-e5d7-3d7e48d52958"
      },
      "execution_count": null,
      "outputs": [
        {
          "output_type": "stream",
          "name": "stdout",
          "text": [
            "Total amount of spending among members of the Gold Zone Players Club across the season is 1347562.61\n"
          ]
        }
      ]
    },
    {
      "cell_type": "code",
      "source": [
        "gzpc['most_common'].value_counts(dropna = False)"
      ],
      "metadata": {
        "id": "tiu92Tyl3jfj",
        "colab": {
          "base_uri": "https://localhost:8080/"
        },
        "outputId": "7deed35e-68f9-469b-c574-db8440fa2265"
      },
      "execution_count": null,
      "outputs": [
        {
          "output_type": "execute_result",
          "data": {
            "text/plain": [
              "Star Wars                 96\n",
              "Connect 4 Hoops           61\n",
              "Wheel Deal                55\n",
              "Space Invaders            49\n",
              "Dance Dance Revolution    10\n",
              "Gone Fishin                7\n",
              "Name: most_common, dtype: int64"
            ]
          },
          "metadata": {},
          "execution_count": 10
        }
      ]
    },
    {
      "cell_type": "code",
      "source": [
        "gzpc.groupby('most_common')['total_spend'].mean() . sort_values(ascending= False)"
      ],
      "metadata": {
        "colab": {
          "base_uri": "https://localhost:8080/"
        },
        "id": "x18_8m2B5X_c",
        "outputId": "9504553c-aa3b-4c98-ab76-a87a79dd1d7c"
      },
      "execution_count": null,
      "outputs": [
        {
          "output_type": "execute_result",
          "data": {
            "text/plain": [
              "most_common\n",
              "Dance Dance Revolution    5119.498000\n",
              "Star Wars                 4877.515521\n",
              "Connect 4 Hoops           4858.256230\n",
              "Wheel Deal                4823.218364\n",
              "Space Invaders            4762.149796\n",
              "Gone Fishin               4735.737143\n",
              "Name: total_spend, dtype: float64"
            ]
          },
          "metadata": {},
          "execution_count": 11
        }
      ]
    },
    {
      "cell_type": "markdown",
      "source": [
        "*Even though according to the most common variable Dance Dance Revolution is the second least preferred game but through average total spending we understand that Dance Dance Revolution has a significantly higher average spending compared to the other games, while the differences between the average spending of the other games are relatively smaller.so this means  that Dance Dance Revolution is likely the most popular or engaging game among members, leading to higher spending on average compared to the other games. On the other hand, Gone Fishin seems to be less popular or less engaging, resulting in lower average spending. The differences in average spending is providing us insights into the relative popularity and appeal of different games among members.*  "
      ],
      "metadata": {
        "id": "zlOj4dzLSDId"
      }
    },
    {
      "cell_type": "code",
      "source": [
        "mean_ages=gzpc.groupby(['most_common','gender']) ['age_start'].mean().sort_values(ascending= False)\n",
        "print (mean_ages)"
      ],
      "metadata": {
        "colab": {
          "base_uri": "https://localhost:8080/"
        },
        "id": "UbQNd2It6twv",
        "outputId": "ec9995eb-87cf-4598-a365-33cd2f18e123"
      },
      "execution_count": null,
      "outputs": [
        {
          "output_type": "stream",
          "name": "stdout",
          "text": [
            "most_common             gender\n",
            "Gone Fishin             M         33.400000\n",
            "Connect 4 Hoops         F         33.117647\n",
            "Star Wars               F         30.434783\n",
            "Space Invaders          M         30.157895\n",
            "Dance Dance Revolution  F         30.000000\n",
            "Star Wars               M         29.219178\n",
            "Connect 4 Hoops         M         26.659091\n",
            "Space Invaders          F         26.454545\n",
            "Wheel Deal              F         26.142857\n",
            "Gone Fishin             F         26.000000\n",
            "Wheel Deal              M         25.414634\n",
            "Dance Dance Revolution  M         24.142857\n",
            "Name: age_start, dtype: float64\n"
          ]
        }
      ]
    },
    {
      "cell_type": "code",
      "source": [
        "Unique_ages= mean_ages.unique\n",
        "print(Unique_ages)\n",
        "length= len (mean_ages)\n",
        "print(\"number of unique groups=\",length)"
      ],
      "metadata": {
        "colab": {
          "base_uri": "https://localhost:8080/"
        },
        "id": "dwyZB0buP4jA",
        "outputId": "1570a72b-ba6b-441b-8a7e-6b29ec45d6b5"
      },
      "execution_count": null,
      "outputs": [
        {
          "output_type": "stream",
          "name": "stdout",
          "text": [
            "<bound method Series.unique of most_common             gender\n",
            "Gone Fishin             M         33.400000\n",
            "Connect 4 Hoops         F         33.117647\n",
            "Star Wars               F         30.434783\n",
            "Space Invaders          M         30.157895\n",
            "Dance Dance Revolution  F         30.000000\n",
            "Star Wars               M         29.219178\n",
            "Connect 4 Hoops         M         26.659091\n",
            "Space Invaders          F         26.454545\n",
            "Wheel Deal              F         26.142857\n",
            "Gone Fishin             F         26.000000\n",
            "Wheel Deal              M         25.414634\n",
            "Dance Dance Revolution  M         24.142857\n",
            "Name: age_start, dtype: float64>\n",
            "number of unique groups= 12\n"
          ]
        }
      ]
    },
    {
      "cell_type": "markdown",
      "source": [
        "*Through this data we get to know the demographics of each game which can then help lobster land to understand their customers prefrences much better and can therefore use them to increase promotion. This can be done through following ways-*\n",
        "\n",
        "*1. Events : Lobster Land could organize events centered around popular games to attract specific demographics. For instance, they could host gaming ladies nights for Dance Dance Revolution as this game is most popular amongst women of an average of 30.Or Tournaments for males for Star wars games.*\n",
        "\n",
        "*2. Customer Engagement: develop loyalty programs, gather feedback, and enhance customer satisfaction.*\n",
        "\n",
        "*3. Partnerships and Collaborations: Lobster Land could explore partnerships or collaborations with different brands like females can use their tickets or points to buy make up from mac.*"
      ],
      "metadata": {
        "id": "9iqtn_wyVp0i"
      }
    },
    {
      "cell_type": "code",
      "source": [
        "total_spend_std= gzpc.total_spend.std ()\n",
        "print (\"standard devistion of total spend\",total_spend_std)\n",
        "\n",
        "total_visit_std= gzpc.total_visits23.std()\n",
        "print(\"standard deviation of total visit=\",total_visit_std)"
      ],
      "metadata": {
        "colab": {
          "base_uri": "https://localhost:8080/"
        },
        "id": "nDQ5z35qa8VI",
        "outputId": "6668b27b-0a0c-43e3-f66c-aa5c76cd37ec"
      },
      "execution_count": null,
      "outputs": [
        {
          "output_type": "stream",
          "name": "stdout",
          "text": [
            "standard devistion of total spend 642.6274105064695\n",
            "standard deviation of total visit= 3.4573698425372608\n"
          ]
        }
      ]
    },
    {
      "cell_type": "markdown",
      "source": [
        "*It is misleading to directly compare these two numbers when comparing the variables' relative levels of dispersion because the scales of these variables are  different. Total spending is measured in dollars, which  have a much larger scale than total park visits, which are count of visits by the member.*"
      ],
      "metadata": {
        "id": "lGPtQhp0ee2R"
      }
    },
    {
      "cell_type": "code",
      "source": [
        "total_spend_mean =gzpc.total_spend.mean ()\n",
        "cv_total_spend = (total_spend_std/total_spend_mean)\n",
        "print(\"CV of total spend\", cv_total_spend)\n",
        "\n",
        "total_visit_mean= gzpc.total_visits23.mean()\n",
        "cv_total_visit = (total_visit_std/total_visit_mean)\n",
        "print(\"CV of total visit\", cv_total_visit)\n",
        "\n"
      ],
      "metadata": {
        "colab": {
          "base_uri": "https://localhost:8080/"
        },
        "id": "geEccsYB_z6V",
        "outputId": "f18c9cf6-2e37-4f3a-f7d2-aac7380c094a"
      },
      "execution_count": null,
      "outputs": [
        {
          "output_type": "stream",
          "name": "stdout",
          "text": [
            "CV of total spend 0.13257300165132846\n",
            "CV of total visit 0.2794037256469066\n"
          ]
        }
      ]
    },
    {
      "cell_type": "markdown",
      "source": [
        "*We should used  coefficient of variation because it allows us to do a  direct comparison of the relative variability between two variables inspite of having different units or scales. Which makes it useful for us to compare total spend variable with total visit*\n",
        "\n",
        "*When we use the CV, we get a percentage that tells us the relative variability of the numbers. This is easier to understand than just looking at the standard deviation, which is in the same units as the original data.*\n",
        "\n",
        "*The CV of total spend (13.26%) suggests that the variability in spending amounts relative to the mean spending is relatively low.*\n",
        "*The CV of total visit (27.94%) suggests that the variability in visit counts relative to the mean visit count is relatively high.*"
      ],
      "metadata": {
        "id": "ssCs2WmwfnVl"
      }
    },
    {
      "cell_type": "code",
      "source": [
        "gzpc.last_visit23.info()"
      ],
      "metadata": {
        "colab": {
          "base_uri": "https://localhost:8080/"
        },
        "id": "X9d5AtyLC07V",
        "outputId": "f14257be-65fd-4cbe-a3dd-f936334f83a4"
      },
      "execution_count": null,
      "outputs": [
        {
          "output_type": "stream",
          "name": "stdout",
          "text": [
            "<class 'pandas.core.series.Series'>\n",
            "RangeIndex: 278 entries, 0 to 277\n",
            "Series name: last_visit23\n",
            "Non-Null Count  Dtype \n",
            "--------------  ----- \n",
            "278 non-null    object\n",
            "dtypes: object(1)\n",
            "memory usage: 2.3+ KB\n"
          ]
        }
      ]
    },
    {
      "cell_type": "code",
      "source": [
        "gzpc ['last_visit23'] = pd.to_datetime(gzpc['last_visit23'])\n",
        "gzpc.last_visit23.info()\n"
      ],
      "metadata": {
        "colab": {
          "base_uri": "https://localhost:8080/"
        },
        "id": "QiEllwVeE8E1",
        "outputId": "c0bcc813-98c4-45c0-8a8a-66e11c1bc637"
      },
      "execution_count": null,
      "outputs": [
        {
          "output_type": "stream",
          "name": "stdout",
          "text": [
            "<class 'pandas.core.series.Series'>\n",
            "RangeIndex: 278 entries, 0 to 277\n",
            "Series name: last_visit23\n",
            "Non-Null Count  Dtype         \n",
            "--------------  -----         \n",
            "278 non-null    datetime64[ns]\n",
            "dtypes: datetime64[ns](1)\n",
            "memory usage: 2.3 KB\n"
          ]
        }
      ]
    },
    {
      "cell_type": "markdown",
      "source": [
        "*Specifying that a variable is truly a date in Python ensures that Python recognizes it as a date and enables and provides us accurate date-related operations and validations*"
      ],
      "metadata": {
        "id": "EuMhc2IWj5Kz"
      }
    },
    {
      "cell_type": "code",
      "source": [
        "gzpc.rename(columns = {'most_common': 'most_common_game'},inplace= True)\n",
        "gzpc.head()"
      ],
      "metadata": {
        "colab": {
          "base_uri": "https://localhost:8080/",
          "height": 224
        },
        "id": "EzCz64X1mvPt",
        "outputId": "f61827aa-e116-4775-a29f-f28c68dcd60e"
      },
      "execution_count": null,
      "outputs": [
        {
          "output_type": "execute_result",
          "data": {
            "text/plain": [
              "   memberID  age_start  dist_park gender job_type last_visit23  \\\n",
              "0         1         35         18      M        S   2023-09-03   \n",
              "1         2         17        130      M        R   2023-07-14   \n",
              "2         3         49        138      M        S   2023-06-08   \n",
              "3         4         21         80      M        H   2023-08-24   \n",
              "4         5         39        110      M        H   2023-08-08   \n",
              "\n",
              "  most_common_game  total_games  total_spend  total_visits23  passholder  \\\n",
              "0       Wheel Deal          538      4900.88              11           0   \n",
              "1  Connect 4 Hoops          642      5658.99              10           0   \n",
              "2  Connect 4 Hoops          623      4720.21              11           0   \n",
              "3        Star Wars          669      5761.57               9           0   \n",
              "4        Star Wars          484      4140.06               8           0   \n",
              "\n",
              "   years_member  SuperPlayers  \n",
              "0             1         False  \n",
              "1            19         False  \n",
              "2            12         False  \n",
              "3            17         False  \n",
              "4            10         False  "
            ],
            "text/html": [
              "\n",
              "  <div id=\"df-a5740502-fe12-4d89-9dcb-43e538839da8\" class=\"colab-df-container\">\n",
              "    <div>\n",
              "<style scoped>\n",
              "    .dataframe tbody tr th:only-of-type {\n",
              "        vertical-align: middle;\n",
              "    }\n",
              "\n",
              "    .dataframe tbody tr th {\n",
              "        vertical-align: top;\n",
              "    }\n",
              "\n",
              "    .dataframe thead th {\n",
              "        text-align: right;\n",
              "    }\n",
              "</style>\n",
              "<table border=\"1\" class=\"dataframe\">\n",
              "  <thead>\n",
              "    <tr style=\"text-align: right;\">\n",
              "      <th></th>\n",
              "      <th>memberID</th>\n",
              "      <th>age_start</th>\n",
              "      <th>dist_park</th>\n",
              "      <th>gender</th>\n",
              "      <th>job_type</th>\n",
              "      <th>last_visit23</th>\n",
              "      <th>most_common_game</th>\n",
              "      <th>total_games</th>\n",
              "      <th>total_spend</th>\n",
              "      <th>total_visits23</th>\n",
              "      <th>passholder</th>\n",
              "      <th>years_member</th>\n",
              "      <th>SuperPlayers</th>\n",
              "    </tr>\n",
              "  </thead>\n",
              "  <tbody>\n",
              "    <tr>\n",
              "      <th>0</th>\n",
              "      <td>1</td>\n",
              "      <td>35</td>\n",
              "      <td>18</td>\n",
              "      <td>M</td>\n",
              "      <td>S</td>\n",
              "      <td>2023-09-03</td>\n",
              "      <td>Wheel Deal</td>\n",
              "      <td>538</td>\n",
              "      <td>4900.88</td>\n",
              "      <td>11</td>\n",
              "      <td>0</td>\n",
              "      <td>1</td>\n",
              "      <td>False</td>\n",
              "    </tr>\n",
              "    <tr>\n",
              "      <th>1</th>\n",
              "      <td>2</td>\n",
              "      <td>17</td>\n",
              "      <td>130</td>\n",
              "      <td>M</td>\n",
              "      <td>R</td>\n",
              "      <td>2023-07-14</td>\n",
              "      <td>Connect 4 Hoops</td>\n",
              "      <td>642</td>\n",
              "      <td>5658.99</td>\n",
              "      <td>10</td>\n",
              "      <td>0</td>\n",
              "      <td>19</td>\n",
              "      <td>False</td>\n",
              "    </tr>\n",
              "    <tr>\n",
              "      <th>2</th>\n",
              "      <td>3</td>\n",
              "      <td>49</td>\n",
              "      <td>138</td>\n",
              "      <td>M</td>\n",
              "      <td>S</td>\n",
              "      <td>2023-06-08</td>\n",
              "      <td>Connect 4 Hoops</td>\n",
              "      <td>623</td>\n",
              "      <td>4720.21</td>\n",
              "      <td>11</td>\n",
              "      <td>0</td>\n",
              "      <td>12</td>\n",
              "      <td>False</td>\n",
              "    </tr>\n",
              "    <tr>\n",
              "      <th>3</th>\n",
              "      <td>4</td>\n",
              "      <td>21</td>\n",
              "      <td>80</td>\n",
              "      <td>M</td>\n",
              "      <td>H</td>\n",
              "      <td>2023-08-24</td>\n",
              "      <td>Star Wars</td>\n",
              "      <td>669</td>\n",
              "      <td>5761.57</td>\n",
              "      <td>9</td>\n",
              "      <td>0</td>\n",
              "      <td>17</td>\n",
              "      <td>False</td>\n",
              "    </tr>\n",
              "    <tr>\n",
              "      <th>4</th>\n",
              "      <td>5</td>\n",
              "      <td>39</td>\n",
              "      <td>110</td>\n",
              "      <td>M</td>\n",
              "      <td>H</td>\n",
              "      <td>2023-08-08</td>\n",
              "      <td>Star Wars</td>\n",
              "      <td>484</td>\n",
              "      <td>4140.06</td>\n",
              "      <td>8</td>\n",
              "      <td>0</td>\n",
              "      <td>10</td>\n",
              "      <td>False</td>\n",
              "    </tr>\n",
              "  </tbody>\n",
              "</table>\n",
              "</div>\n",
              "    <div class=\"colab-df-buttons\">\n",
              "\n",
              "  <div class=\"colab-df-container\">\n",
              "    <button class=\"colab-df-convert\" onclick=\"convertToInteractive('df-a5740502-fe12-4d89-9dcb-43e538839da8')\"\n",
              "            title=\"Convert this dataframe to an interactive table.\"\n",
              "            style=\"display:none;\">\n",
              "\n",
              "  <svg xmlns=\"http://www.w3.org/2000/svg\" height=\"24px\" viewBox=\"0 -960 960 960\">\n",
              "    <path d=\"M120-120v-720h720v720H120Zm60-500h600v-160H180v160Zm220 220h160v-160H400v160Zm0 220h160v-160H400v160ZM180-400h160v-160H180v160Zm440 0h160v-160H620v160ZM180-180h160v-160H180v160Zm440 0h160v-160H620v160Z\"/>\n",
              "  </svg>\n",
              "    </button>\n",
              "\n",
              "  <style>\n",
              "    .colab-df-container {\n",
              "      display:flex;\n",
              "      gap: 12px;\n",
              "    }\n",
              "\n",
              "    .colab-df-convert {\n",
              "      background-color: #E8F0FE;\n",
              "      border: none;\n",
              "      border-radius: 50%;\n",
              "      cursor: pointer;\n",
              "      display: none;\n",
              "      fill: #1967D2;\n",
              "      height: 32px;\n",
              "      padding: 0 0 0 0;\n",
              "      width: 32px;\n",
              "    }\n",
              "\n",
              "    .colab-df-convert:hover {\n",
              "      background-color: #E2EBFA;\n",
              "      box-shadow: 0px 1px 2px rgba(60, 64, 67, 0.3), 0px 1px 3px 1px rgba(60, 64, 67, 0.15);\n",
              "      fill: #174EA6;\n",
              "    }\n",
              "\n",
              "    .colab-df-buttons div {\n",
              "      margin-bottom: 4px;\n",
              "    }\n",
              "\n",
              "    [theme=dark] .colab-df-convert {\n",
              "      background-color: #3B4455;\n",
              "      fill: #D2E3FC;\n",
              "    }\n",
              "\n",
              "    [theme=dark] .colab-df-convert:hover {\n",
              "      background-color: #434B5C;\n",
              "      box-shadow: 0px 1px 3px 1px rgba(0, 0, 0, 0.15);\n",
              "      filter: drop-shadow(0px 1px 2px rgba(0, 0, 0, 0.3));\n",
              "      fill: #FFFFFF;\n",
              "    }\n",
              "  </style>\n",
              "\n",
              "    <script>\n",
              "      const buttonEl =\n",
              "        document.querySelector('#df-a5740502-fe12-4d89-9dcb-43e538839da8 button.colab-df-convert');\n",
              "      buttonEl.style.display =\n",
              "        google.colab.kernel.accessAllowed ? 'block' : 'none';\n",
              "\n",
              "      async function convertToInteractive(key) {\n",
              "        const element = document.querySelector('#df-a5740502-fe12-4d89-9dcb-43e538839da8');\n",
              "        const dataTable =\n",
              "          await google.colab.kernel.invokeFunction('convertToInteractive',\n",
              "                                                    [key], {});\n",
              "        if (!dataTable) return;\n",
              "\n",
              "        const docLinkHtml = 'Like what you see? Visit the ' +\n",
              "          '<a target=\"_blank\" href=https://colab.research.google.com/notebooks/data_table.ipynb>data table notebook</a>'\n",
              "          + ' to learn more about interactive tables.';\n",
              "        element.innerHTML = '';\n",
              "        dataTable['output_type'] = 'display_data';\n",
              "        await google.colab.output.renderOutput(dataTable, element);\n",
              "        const docLink = document.createElement('div');\n",
              "        docLink.innerHTML = docLinkHtml;\n",
              "        element.appendChild(docLink);\n",
              "      }\n",
              "    </script>\n",
              "  </div>\n",
              "\n",
              "\n",
              "<div id=\"df-2038a6d9-7361-4016-8551-df2057282ce3\">\n",
              "  <button class=\"colab-df-quickchart\" onclick=\"quickchart('df-2038a6d9-7361-4016-8551-df2057282ce3')\"\n",
              "            title=\"Suggest charts\"\n",
              "            style=\"display:none;\">\n",
              "\n",
              "<svg xmlns=\"http://www.w3.org/2000/svg\" height=\"24px\"viewBox=\"0 0 24 24\"\n",
              "     width=\"24px\">\n",
              "    <g>\n",
              "        <path d=\"M19 3H5c-1.1 0-2 .9-2 2v14c0 1.1.9 2 2 2h14c1.1 0 2-.9 2-2V5c0-1.1-.9-2-2-2zM9 17H7v-7h2v7zm4 0h-2V7h2v10zm4 0h-2v-4h2v4z\"/>\n",
              "    </g>\n",
              "</svg>\n",
              "  </button>\n",
              "\n",
              "<style>\n",
              "  .colab-df-quickchart {\n",
              "      --bg-color: #E8F0FE;\n",
              "      --fill-color: #1967D2;\n",
              "      --hover-bg-color: #E2EBFA;\n",
              "      --hover-fill-color: #174EA6;\n",
              "      --disabled-fill-color: #AAA;\n",
              "      --disabled-bg-color: #DDD;\n",
              "  }\n",
              "\n",
              "  [theme=dark] .colab-df-quickchart {\n",
              "      --bg-color: #3B4455;\n",
              "      --fill-color: #D2E3FC;\n",
              "      --hover-bg-color: #434B5C;\n",
              "      --hover-fill-color: #FFFFFF;\n",
              "      --disabled-bg-color: #3B4455;\n",
              "      --disabled-fill-color: #666;\n",
              "  }\n",
              "\n",
              "  .colab-df-quickchart {\n",
              "    background-color: var(--bg-color);\n",
              "    border: none;\n",
              "    border-radius: 50%;\n",
              "    cursor: pointer;\n",
              "    display: none;\n",
              "    fill: var(--fill-color);\n",
              "    height: 32px;\n",
              "    padding: 0;\n",
              "    width: 32px;\n",
              "  }\n",
              "\n",
              "  .colab-df-quickchart:hover {\n",
              "    background-color: var(--hover-bg-color);\n",
              "    box-shadow: 0 1px 2px rgba(60, 64, 67, 0.3), 0 1px 3px 1px rgba(60, 64, 67, 0.15);\n",
              "    fill: var(--button-hover-fill-color);\n",
              "  }\n",
              "\n",
              "  .colab-df-quickchart-complete:disabled,\n",
              "  .colab-df-quickchart-complete:disabled:hover {\n",
              "    background-color: var(--disabled-bg-color);\n",
              "    fill: var(--disabled-fill-color);\n",
              "    box-shadow: none;\n",
              "  }\n",
              "\n",
              "  .colab-df-spinner {\n",
              "    border: 2px solid var(--fill-color);\n",
              "    border-color: transparent;\n",
              "    border-bottom-color: var(--fill-color);\n",
              "    animation:\n",
              "      spin 1s steps(1) infinite;\n",
              "  }\n",
              "\n",
              "  @keyframes spin {\n",
              "    0% {\n",
              "      border-color: transparent;\n",
              "      border-bottom-color: var(--fill-color);\n",
              "      border-left-color: var(--fill-color);\n",
              "    }\n",
              "    20% {\n",
              "      border-color: transparent;\n",
              "      border-left-color: var(--fill-color);\n",
              "      border-top-color: var(--fill-color);\n",
              "    }\n",
              "    30% {\n",
              "      border-color: transparent;\n",
              "      border-left-color: var(--fill-color);\n",
              "      border-top-color: var(--fill-color);\n",
              "      border-right-color: var(--fill-color);\n",
              "    }\n",
              "    40% {\n",
              "      border-color: transparent;\n",
              "      border-right-color: var(--fill-color);\n",
              "      border-top-color: var(--fill-color);\n",
              "    }\n",
              "    60% {\n",
              "      border-color: transparent;\n",
              "      border-right-color: var(--fill-color);\n",
              "    }\n",
              "    80% {\n",
              "      border-color: transparent;\n",
              "      border-right-color: var(--fill-color);\n",
              "      border-bottom-color: var(--fill-color);\n",
              "    }\n",
              "    90% {\n",
              "      border-color: transparent;\n",
              "      border-bottom-color: var(--fill-color);\n",
              "    }\n",
              "  }\n",
              "</style>\n",
              "\n",
              "  <script>\n",
              "    async function quickchart(key) {\n",
              "      const quickchartButtonEl =\n",
              "        document.querySelector('#' + key + ' button');\n",
              "      quickchartButtonEl.disabled = true;  // To prevent multiple clicks.\n",
              "      quickchartButtonEl.classList.add('colab-df-spinner');\n",
              "      try {\n",
              "        const charts = await google.colab.kernel.invokeFunction(\n",
              "            'suggestCharts', [key], {});\n",
              "      } catch (error) {\n",
              "        console.error('Error during call to suggestCharts:', error);\n",
              "      }\n",
              "      quickchartButtonEl.classList.remove('colab-df-spinner');\n",
              "      quickchartButtonEl.classList.add('colab-df-quickchart-complete');\n",
              "    }\n",
              "    (() => {\n",
              "      let quickchartButtonEl =\n",
              "        document.querySelector('#df-2038a6d9-7361-4016-8551-df2057282ce3 button');\n",
              "      quickchartButtonEl.style.display =\n",
              "        google.colab.kernel.accessAllowed ? 'block' : 'none';\n",
              "    })();\n",
              "  </script>\n",
              "</div>\n",
              "\n",
              "    </div>\n",
              "  </div>\n"
            ],
            "application/vnd.google.colaboratory.intrinsic+json": {
              "type": "dataframe",
              "variable_name": "gzpc",
              "summary": "{\n  \"name\": \"gzpc\",\n  \"rows\": 278,\n  \"fields\": [\n    {\n      \"column\": \"memberID\",\n      \"properties\": {\n        \"dtype\": \"number\",\n        \"std\": 80,\n        \"min\": 1,\n        \"max\": 278,\n        \"samples\": [\n          31,\n          127,\n          200\n        ],\n        \"num_unique_values\": 278,\n        \"semantic_type\": \"\",\n        \"description\": \"\"\n      }\n    },\n    {\n      \"column\": \"age_start\",\n      \"properties\": {\n        \"dtype\": \"number\",\n        \"std\": 13,\n        \"min\": 16,\n        \"max\": 78,\n        \"samples\": [\n          32,\n          69,\n          55\n        ],\n        \"num_unique_values\": 48,\n        \"semantic_type\": \"\",\n        \"description\": \"\"\n      }\n    },\n    {\n      \"column\": \"dist_park\",\n      \"properties\": {\n        \"dtype\": \"number\",\n        \"std\": 51,\n        \"min\": 1,\n        \"max\": 229,\n        \"samples\": [\n          24,\n          110,\n          36\n        ],\n        \"num_unique_values\": 115,\n        \"semantic_type\": \"\",\n        \"description\": \"\"\n      }\n    },\n    {\n      \"column\": \"gender\",\n      \"properties\": {\n        \"dtype\": \"category\",\n        \"samples\": [\n          \"F\",\n          \"M\"\n        ],\n        \"num_unique_values\": 2,\n        \"semantic_type\": \"\",\n        \"description\": \"\"\n      }\n    },\n    {\n      \"column\": \"job_type\",\n      \"properties\": {\n        \"dtype\": \"category\",\n        \"samples\": [\n          \"R\",\n          \"U\"\n        ],\n        \"num_unique_values\": 5,\n        \"semantic_type\": \"\",\n        \"description\": \"\"\n      }\n    },\n    {\n      \"column\": \"last_visit23\",\n      \"properties\": {\n        \"dtype\": \"date\",\n        \"min\": \"2023-06-04 00:00:00\",\n        \"max\": \"2023-09-04 00:00:00\",\n        \"samples\": [\n          \"2023-07-15 00:00:00\",\n          \"2023-09-03 00:00:00\"\n        ],\n        \"num_unique_values\": 82,\n        \"semantic_type\": \"\",\n        \"description\": \"\"\n      }\n    },\n    {\n      \"column\": \"most_common_game\",\n      \"properties\": {\n        \"dtype\": \"category\",\n        \"samples\": [\n          \"Wheel Deal\",\n          \"Connect 4 Hoops\"\n        ],\n        \"num_unique_values\": 6,\n        \"semantic_type\": \"\",\n        \"description\": \"\"\n      }\n    },\n    {\n      \"column\": \"total_games\",\n      \"properties\": {\n        \"dtype\": \"number\",\n        \"std\": 88,\n        \"min\": 289,\n        \"max\": 847,\n        \"samples\": [\n          504,\n          585\n        ],\n        \"num_unique_values\": 192,\n        \"semantic_type\": \"\",\n        \"description\": \"\"\n      }\n    },\n    {\n      \"column\": \"total_spend\",\n      \"properties\": {\n        \"dtype\": \"number\",\n        \"std\": 642.6274105064695,\n        \"min\": 2548.72,\n        \"max\": 6575.28,\n        \"samples\": [\n          4099.19,\n          3391.58\n        ],\n        \"num_unique_values\": 278,\n        \"semantic_type\": \"\",\n        \"description\": \"\"\n      }\n    },\n    {\n      \"column\": \"total_visits23\",\n      \"properties\": {\n        \"dtype\": \"number\",\n        \"std\": 3,\n        \"min\": 4,\n        \"max\": 24,\n        \"samples\": [\n          11,\n          5\n        ],\n        \"num_unique_values\": 21,\n        \"semantic_type\": \"\",\n        \"description\": \"\"\n      }\n    },\n    {\n      \"column\": \"passholder\",\n      \"properties\": {\n        \"dtype\": \"number\",\n        \"std\": 0,\n        \"min\": 0,\n        \"max\": 1,\n        \"samples\": [\n          1,\n          0\n        ],\n        \"num_unique_values\": 2,\n        \"semantic_type\": \"\",\n        \"description\": \"\"\n      }\n    },\n    {\n      \"column\": \"years_member\",\n      \"properties\": {\n        \"dtype\": \"number\",\n        \"std\": 5,\n        \"min\": 0,\n        \"max\": 20,\n        \"samples\": [\n          1,\n          6\n        ],\n        \"num_unique_values\": 21,\n        \"semantic_type\": \"\",\n        \"description\": \"\"\n      }\n    },\n    {\n      \"column\": \"SuperPlayers\",\n      \"properties\": {\n        \"dtype\": \"boolean\",\n        \"samples\": [\n          true,\n          false\n        ],\n        \"num_unique_values\": 2,\n        \"semantic_type\": \"\",\n        \"description\": \"\"\n      }\n    }\n  ]\n}"
            }
          },
          "metadata": {},
          "execution_count": 18
        }
      ]
    },
    {
      "cell_type": "code",
      "source": [
        "plt.figure(figsize=(11, 6))\n",
        "sns.countplot (x= 'most_common_game',data=gzpc)\n",
        "plt.title('Most common game')\n",
        "plt.xlabel('Most common game')\n",
        "plt.ylabel('Count of most common game')\n",
        "plt.show()"
      ],
      "metadata": {
        "colab": {
          "base_uri": "https://localhost:8080/",
          "height": 564
        },
        "id": "MIQnwoU4vtWh",
        "outputId": "91c8f059-e43d-4f13-dd73-bf9704398855"
      },
      "execution_count": null,
      "outputs": [
        {
          "output_type": "display_data",
          "data": {
            "text/plain": [
              "<Figure size 1100x600 with 1 Axes>"
            ],
            "image/png": "[encoded data removed]"
          },
          "metadata": {}
        }
      ]
    },
    {
      "cell_type": "markdown",
      "source": [
        "*The barplot shows the popularity of various games among visitors, with \"Star Wars\" being the most popular game followed by \"Connect 4 Hoops\" and \"Wheel Deal.\" However, there is a major drop in popularity for the remaining games, with \"Gone Fishin\" and \"Dance Dance Revolution\" being the least popular among visitors. Overall, the plot illustrates the distribution of game preferences among visitors, highlighting the highest preferred games over others.*"
      ],
      "metadata": {
        "id": "LdqaTqs8keRh"
      }
    },
    {
      "cell_type": "code",
      "source": [
        "mean_of_number_of_games= gzpc.total_games .mean()\n",
        "plt.figure(figsize=(11, 6))\n",
        "sns.barplot(x='SuperPlayers', y=mean_of_number_of_games, data=gzpc)\n",
        "plt.title('Average Number of Games Played by SuperPlayers vs. Regular Members')\n",
        "plt.xlabel('SuperPlayers')\n",
        "plt.ylabel('Average Number of Games Played')\n",
        "plt.show()"
      ],
      "metadata": {
        "colab": {
          "base_uri": "https://localhost:8080/",
          "height": 564
        },
        "id": "qR_iUn_kuGMA",
        "outputId": "beb0b288-4ec9-42b7-b7c6-e6d4e388f483"
      },
      "execution_count": null,
      "outputs": [
        {
          "output_type": "display_data",
          "data": {
            "text/plain": [
              "<Figure size 1100x600 with 1 Axes>"
            ],
            "image/png": "[encoded data removed]"
          },
          "metadata": {}
        }
      ]
    },
    {
      "cell_type": "markdown",
      "source": [
        "*Average number of games played by regular and superplayers are same*\n",
        "\n"
      ],
      "metadata": {
        "id": "SIcZoezQl_1h"
      }
    },
    {
      "cell_type": "code",
      "source": [
        "plt.figure(figsize=(11, 6))\n",
        "sns.histplot(x='total_spend',bins=10, data=gzpc)"
      ],
      "metadata": {
        "colab": {
          "base_uri": "https://localhost:8080/",
          "height": 559
        },
        "id": "afVbNVXkylJo",
        "outputId": "b865554e-be52-446b-af42-7db3e79c779b"
      },
      "execution_count": null,
      "outputs": [
        {
          "output_type": "execute_result",
          "data": {
            "text/plain": [
              "<Axes: xlabel='total_spend', ylabel='Count'>"
            ]
          },
          "metadata": {},
          "execution_count": 21
        },
        {
          "output_type": "display_data",
          "data": {
            "text/plain": [
              "<Figure size 1100x600 with 1 Axes>"
            ],
            "image/png": "[encoded data removed]"
          },
          "metadata": {}
        }
      ]
    },
    {
      "cell_type": "code",
      "source": [
        "plt.figure(figsize=(11, 6))\n",
        "sns.histplot(x='total_spend',bins =15, data=gzpc)"
      ],
      "metadata": {
        "colab": {
          "base_uri": "https://localhost:8080/",
          "height": 561
        },
        "id": "9lyA8hVH6_Xk",
        "outputId": "21ff3dda-a4f4-47a1-a8e5-02262b339098"
      },
      "execution_count": null,
      "outputs": [
        {
          "output_type": "execute_result",
          "data": {
            "text/plain": [
              "<Axes: xlabel='total_spend', ylabel='Count'>"
            ]
          },
          "metadata": {},
          "execution_count": 22
        },
        {
          "output_type": "display_data",
          "data": {
            "text/plain": [
              "<Figure size 1100x600 with 1 Axes>"
            ],
            "image/png": "[encoded data removed]"
          },
          "metadata": {}
        }
      ]
    },
    {
      "cell_type": "markdown",
      "source": [
        "*Increasing the number of bins in a histogram provides more detailed information about the data. For instance, in the first histogram, we can observe a lower total spend between 6000 and 6500, suggesting that fewer members spent within this range. However, with more bins in the second histogram, we can discern even finer details, such as the observation that there are even fewer customers spending around 6500 compared to those spending around 6000.*"
      ],
      "metadata": {
        "id": "UQ91VSt3nY3_"
      }
    },
    {
      "cell_type": "code",
      "source": [
        "plt.figure(figsize=(11, 6))\n",
        "sns.FacetGrid(gzpc, col='job_type', col_wrap=3, height=4).map(sns.histplot, 'total_spend', bins=15, color='purple')\n",
        "plt.show()"
      ],
      "metadata": {
        "colab": {
          "base_uri": "https://localhost:8080/",
          "height": 728
        },
        "id": "oJ18TUh97U3p",
        "outputId": "44f91c8d-88bf-4b47-8f9c-4dbea812c464"
      },
      "execution_count": null,
      "outputs": [
        {
          "output_type": "display_data",
          "data": {
            "text/plain": [
              "<Figure size 1100x600 with 0 Axes>"
            ]
          },
          "metadata": {}
        },
        {
          "output_type": "display_data",
          "data": {
            "text/plain": [
              "<Figure size 1200x800 with 5 Axes>"
            ],
            "image/png": "[encoded data removed]"
          },
          "metadata": {}
        }
      ]
    },
    {
      "cell_type": "markdown",
      "source": [
        "*Members with a salaried job type typically have a spending capacity of 4000 or more, while those with an hourly job type tend to spend $3000 or more. Members with an unknown job type typically have a spending capacity either lower than 3000 or within the 4000 to 6000 range.*\n",
        "\n",
        "\n",
        "*The histogram indicates distinct groups of members based on their spending capacities: those spending between 3000 and 4000 likely have lower hourly wages or fewer hours worked, while those spending up to 5000 likely have higher pay. A noticeable group can spend around 6000, suggesting they are the highest earners. Additionally, the plot highlights that there are more members with higher earnings in the hourly job type category compared to the salaried job type.*\n"
      ],
      "metadata": {
        "id": "u8GcEewUqGE3"
      }
    },
    {
      "cell_type": "code",
      "source": [
        "plt.figure(figsize=(8, 6))\n",
        "sns.boxplot(x='total_spend',y='job_type' , data=gzpc)"
      ],
      "metadata": {
        "colab": {
          "base_uri": "https://localhost:8080/",
          "height": 559
        },
        "id": "FyQZnYGaCqNg",
        "outputId": "e6943bb8-1e61-4cde-8951-dadcc2090657"
      },
      "execution_count": null,
      "outputs": [
        {
          "output_type": "execute_result",
          "data": {
            "text/plain": [
              "<Axes: xlabel='total_spend', ylabel='job_type'>"
            ]
          },
          "metadata": {},
          "execution_count": 32
        },
        {
          "output_type": "display_data",
          "data": {
            "text/plain": [
              "<Figure size 800x600 with 1 Axes>"
            ],
            "image/png": "[encoded data removed]"
          },
          "metadata": {}
        }
      ]
    },
    {
      "cell_type": "code",
      "source": [
        "five_num_summary = gzpc.groupby('job_type')['total_spend'].describe()\n",
        "print(five_num_summary)"
      ],
      "metadata": {
        "id": "dyCILijmHoQt"
      },
      "execution_count": null,
      "outputs": []
    },
    {
      "cell_type": "markdown",
      "source": [
        "*The box plot helps us understand how spending varies across different job types and identify spending patterns.that job type \"S\" has a wider range of spending amounts, with the middle 50% of spenders (Q1 to Q3) ranging from 4610.74 to 5349.17. The highest spender in this group spent 6575.28. In contrast, job type \"U\" has a narrower spending range, with the middle 50% of spenders ranging from 4366.24 to 5141.62. The highest spender in this group spent 5769.76.*"
      ],
      "metadata": {
        "id": "fl3W0aBzG-t7"
      }
    },
    {
      "cell_type": "code",
      "source": [
        "plt.figure(figsize=(11, 6))\n",
        "sns.scatterplot(x='age_start',y='total_spend' , data=gzpc)"
      ],
      "metadata": {
        "colab": {
          "base_uri": "https://localhost:8080/",
          "height": 559
        },
        "id": "1tluiWszDIpo",
        "outputId": "ff77d359-9261-4720-e25f-3c96a2391752"
      },
      "execution_count": null,
      "outputs": [
        {
          "output_type": "execute_result",
          "data": {
            "text/plain": [
              "<Axes: xlabel='age_start', ylabel='total_spend'>"
            ]
          },
          "metadata": {},
          "execution_count": 27
        },
        {
          "output_type": "display_data",
          "data": {
            "text/plain": [
              "<Figure size 1100x600 with 1 Axes>"
            ],
            "image/png": "[encoded data removed]"
          },
          "metadata": {}
        }
      ]
    },
    {
      "cell_type": "markdown",
      "source": [
        "*No relationship is there between age and total spend, this could be because spend capacity is not connected to age but to how much You have in your hand and how much You can spend*\n"
      ],
      "metadata": {
        "id": "0p_xRV_hEsUQ"
      }
    },
    {
      "cell_type": "code",
      "source": [
        "\n",
        "gzpc['visit_week'] = gzpc['last_visit23'].dt.isocalendar().week\n",
        "\n",
        "plt.figure(figsize=(10, 6))\n",
        "sns.countplot(x='visit_week', data=gzpc)"
      ],
      "metadata": {
        "colab": {
          "base_uri": "https://localhost:8080/",
          "height": 559
        },
        "id": "Y0Ap995SEvGo",
        "outputId": "c122066e-89cd-4a8f-f224-b231771fde54"
      },
      "execution_count": null,
      "outputs": [
        {
          "output_type": "execute_result",
          "data": {
            "text/plain": [
              "<Axes: xlabel='visit_week', ylabel='count'>"
            ]
          },
          "metadata": {},
          "execution_count": 33
        },
        {
          "output_type": "display_data",
          "data": {
            "text/plain": [
              "<Figure size 1000x600 with 1 Axes>"
            ],
            "image/png": "[encoded data removed]"
          },
          "metadata": {}
        }
      ]
    },
    {
      "cell_type": "markdown",
      "source": [
        "*The highest number of visitors are on the second last week of the summer and lest on the first week of the summer as during the second last week of summer, many families are looking for activities to enjoy together before the end of the summer break. This could lead to increased visits. Conversely, during the first week of summer, families may still be transitioning into summer break mode and may not have yet made plans to visit such venues.*\n"
      ],
      "metadata": {
        "id": "-ex22ZxkvwhL"
      }
    }
  ]
}